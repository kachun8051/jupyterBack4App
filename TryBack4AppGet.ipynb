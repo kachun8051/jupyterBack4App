{
 "cells": [
  {
   "cell_type": "code",
   "execution_count": 1,
   "id": "e0696fd7",
   "metadata": {},
   "outputs": [],
   "source": [
    "appid = \"hfTlPfo7rgdEJBygPp7lvCufCoSDs5aVLS1P9E0F\"\n",
    "apikey = \"mH5wt0ASGnIts3c8orU0HmhzKq8zbkvEV9LVz7Z1\"\n",
    "masterkey = \"KBhfVrzhU1GbrUNQ9yFxpINXVAyQUGUrt0AIZgai\""
   ]
  },
  {
   "cell_type": "code",
   "execution_count": 2,
   "id": "18a59cfe",
   "metadata": {},
   "outputs": [
    {
     "name": "stdout",
     "output_type": "stream",
     "text": [
      "b'{\"results\":[{\"objectId\":\"wvrWhOb1xd\",\"name\":\"Corolla\",\"price\":19499,\"color\":\"black\",\"createdAt\":\"2020-11-10T05:00:02.094Z\",\"updatedAt\":\"2020-11-10T05:00:02.094Z\"},{\"objectId\":\"iOU2LjLrqH\",\"name\":\"apple\",\"createdAt\":\"2020-11-10T07:31:13.481Z\",\"updatedAt\":\"2020-11-10T07:31:27.544Z\",\"price\":15,\"color\":\"red\"},{\"objectId\":\"xK7cPBAiHm\",\"name\":\"A string\",\"price\":1,\"color\":\"A string\",\"createdAt\":\"2020-11-10T08:56:04.414Z\",\"updatedAt\":\"2020-11-10T08:56:04.414Z\"},{\"objectId\":\"AECi8TCpDt\",\"name\":\"Mirror\",\"price\":20000,\"color\":\"Purple\",\"createdAt\":\"2020-11-10T11:01:10.978Z\",\"updatedAt\":\"2020-11-10T11:01:10.978Z\"},{\"objectId\":\"IH1cw5oE0m\",\"name\":\"A string\",\"createdAt\":\"2020-11-11T04:56:12.275Z\",\"updatedAt\":\"2020-11-11T04:56:12.275Z\"},{\"objectId\":\"imhE9oK9DK\",\"name\":\"A string\",\"price\":5000,\"color\":\"A string\",\"createdAt\":\"2020-11-11T05:00:00.424Z\",\"updatedAt\":\"2020-11-11T05:00:00.424Z\"},{\"objectId\":\"D6R7vvjfHZ\",\"name\":\"Spoon\",\"price\":5000,\"color\":\"Cyan\",\"createdAt\":\"2020-11-11T05:02:20.050Z\",\"updatedAt\":\"2020-11-11T05:02:20.050Z\"},{\"objectId\":\"jlsdZgmgdI\",\"color\":\"Cyan\",\"price\":5000,\"name\":\"Spoon\",\"createdAt\":\"2020-11-11T09:51:05.859Z\",\"updatedAt\":\"2020-11-11T09:51:05.859Z\"},{\"objectId\":\"eMhoa8fAMk\",\"color\":\"Cyan\",\"price\":5000,\"name\":\"Spoon\",\"createdAt\":\"2020-11-12T02:19:40.504Z\",\"updatedAt\":\"2020-11-12T02:19:40.504Z\"},{\"objectId\":\"O12v3HRlGH\",\"name\":\"Spoon\",\"price\":5000,\"color\":\"Cyan\",\"inputdt\":{\"__type\":\"Date\",\"iso\":\"2020-01-15T12:19:07.175Z\"},\"createdAt\":\"2022-12-05T09:52:18.533Z\",\"updatedAt\":\"2022-12-05T09:52:18.533Z\"},{\"objectId\":\"JbFHGEiylS\",\"name\":\"Spoon\",\"price\":5000,\"color\":\"Cyan\",\"inputdt\":{\"__type\":\"Date\",\"iso\":\"2022-12-01T04:00:00.000Z\"},\"createdAt\":\"2022-12-05T09:53:33.514Z\",\"updatedAt\":\"2022-12-05T09:53:33.514Z\"},{\"objectId\":\"xA07NZYyjw\",\"name\":\"Spoon\",\"price\":5000,\"color\":\"Cyan\",\"inputdt\":{\"__type\":\"Date\",\"iso\":\"2022-12-06T03:47:30.000Z\"},\"createdAt\":\"2022-12-06T03:47:32.112Z\",\"updatedAt\":\"2022-12-06T03:47:32.112Z\"},{\"objectId\":\"w9WzI0qA5r\",\"key\":\"val\",\"createdAt\":\"2022-12-11T08:45:14.791Z\",\"updatedAt\":\"2022-12-11T08:45:14.791Z\"}]}'\n"
     ]
    }
   ],
   "source": [
    "import requests\n",
    "url     = 'https://parseapi.back4app.com/classes/B4aVehicle'\n",
    "params = {'limit': 50}\n",
    "headers = {'X-Parse-Application-Id': appid, \n",
    "           'X-Parse-REST-API-Key': apikey,\n",
    "           'Content-Type': 'application/json'}\n",
    "res = requests.get(url, params=params, headers=headers)\n",
    "print(res.content)"
   ]
  },
  {
   "cell_type": "code",
   "execution_count": 3,
   "id": "d8029faf",
   "metadata": {},
   "outputs": [
    {
     "name": "stdout",
     "output_type": "stream",
     "text": [
      "list's size: 13\n"
     ]
    }
   ],
   "source": [
    "import json\n",
    "strjson = res.content\n",
    "dict = json.loads(strjson)\n",
    "list = dict['results']\n",
    "print(\"list's size: \" + str(len(list)))"
   ]
  },
  {
   "cell_type": "code",
   "execution_count": 5,
   "id": "49c6a309",
   "metadata": {
    "scrolled": true
   },
   "outputs": [
    {
     "name": "stdout",
     "output_type": "stream",
     "text": [
      "Collecting dicttoxml\n",
      "  Using cached dicttoxml-1.7.15-py3-none-any.whl (24 kB)\n",
      "Installing collected packages: dicttoxml\n",
      "Successfully installed dicttoxml-1.7.15\n",
      "\n",
      "[notice] A new release of pip available: 22.1.2 -> 22.3.1\n",
      "[notice] To update, run: python.exe -m pip install --upgrade pip\n"
     ]
    }
   ],
   "source": [
    "!pip3 install dicttoxml"
   ]
  },
  {
   "cell_type": "code",
   "execution_count": 6,
   "id": "d20a9d8c",
   "metadata": {},
   "outputs": [
    {
     "name": "stdout",
     "output_type": "stream",
     "text": [
      "Requirement already satisfied: pip in c:\\users\\user\\anaconda3\\lib\\site-packages (22.1.2)\n",
      "Collecting pip\n",
      "  Downloading pip-22.3.1-py3-none-any.whl (2.1 MB)\n",
      "     ---------------------------------------- 2.1/2.1 MB 13.0 MB/s eta 0:00:00\n",
      "Installing collected packages: pip\n",
      "  Attempting uninstall: pip\n",
      "    Found existing installation: pip 22.1.2\n",
      "    Uninstalling pip-22.1.2:\n",
      "      Successfully uninstalled pip-22.1.2\n",
      "Successfully installed pip-22.3.1\n"
     ]
    }
   ],
   "source": [
    "!python.exe -m pip install --upgrade pip"
   ]
  },
  {
   "cell_type": "code",
   "execution_count": 7,
   "id": "cb8dfcdb",
   "metadata": {},
   "outputs": [
    {
     "name": "stdout",
     "output_type": "stream",
     "text": [
      "b'<?xml version=\"1.0\" encoding=\"UTF-8\" ?><root><results type=\"list\"><item type=\"dict\"><objectId type=\"str\">wvrWhOb1xd</objectId><name type=\"str\">Corolla</name><price type=\"int\">19499</price><color type=\"str\">black</color><createdAt type=\"str\">2020-11-10T05:00:02.094Z</createdAt><updatedAt type=\"str\">2020-11-10T05:00:02.094Z</updatedAt></item><item type=\"dict\"><objectId type=\"str\">iOU2LjLrqH</objectId><name type=\"str\">apple</name><createdAt type=\"str\">2020-11-10T07:31:13.481Z</createdAt><updatedAt type=\"str\">2020-11-10T07:31:27.544Z</updatedAt><price type=\"int\">15</price><color type=\"str\">red</color></item><item type=\"dict\"><objectId type=\"str\">xK7cPBAiHm</objectId><name type=\"str\">A string</name><price type=\"int\">1</price><color type=\"str\">A string</color><createdAt type=\"str\">2020-11-10T08:56:04.414Z</createdAt><updatedAt type=\"str\">2020-11-10T08:56:04.414Z</updatedAt></item><item type=\"dict\"><objectId type=\"str\">AECi8TCpDt</objectId><name type=\"str\">Mirror</name><price type=\"int\">20000</price><color type=\"str\">Purple</color><createdAt type=\"str\">2020-11-10T11:01:10.978Z</createdAt><updatedAt type=\"str\">2020-11-10T11:01:10.978Z</updatedAt></item><item type=\"dict\"><objectId type=\"str\">IH1cw5oE0m</objectId><name type=\"str\">A string</name><createdAt type=\"str\">2020-11-11T04:56:12.275Z</createdAt><updatedAt type=\"str\">2020-11-11T04:56:12.275Z</updatedAt></item><item type=\"dict\"><objectId type=\"str\">imhE9oK9DK</objectId><name type=\"str\">A string</name><price type=\"int\">5000</price><color type=\"str\">A string</color><createdAt type=\"str\">2020-11-11T05:00:00.424Z</createdAt><updatedAt type=\"str\">2020-11-11T05:00:00.424Z</updatedAt></item><item type=\"dict\"><objectId type=\"str\">D6R7vvjfHZ</objectId><name type=\"str\">Spoon</name><price type=\"int\">5000</price><color type=\"str\">Cyan</color><createdAt type=\"str\">2020-11-11T05:02:20.050Z</createdAt><updatedAt type=\"str\">2020-11-11T05:02:20.050Z</updatedAt></item><item type=\"dict\"><objectId type=\"str\">jlsdZgmgdI</objectId><color type=\"str\">Cyan</color><price type=\"int\">5000</price><name type=\"str\">Spoon</name><createdAt type=\"str\">2020-11-11T09:51:05.859Z</createdAt><updatedAt type=\"str\">2020-11-11T09:51:05.859Z</updatedAt></item><item type=\"dict\"><objectId type=\"str\">eMhoa8fAMk</objectId><color type=\"str\">Cyan</color><price type=\"int\">5000</price><name type=\"str\">Spoon</name><createdAt type=\"str\">2020-11-12T02:19:40.504Z</createdAt><updatedAt type=\"str\">2020-11-12T02:19:40.504Z</updatedAt></item><item type=\"dict\"><objectId type=\"str\">O12v3HRlGH</objectId><name type=\"str\">Spoon</name><price type=\"int\">5000</price><color type=\"str\">Cyan</color><inputdt type=\"dict\"><__type type=\"str\">Date</__type><iso type=\"str\">2020-01-15T12:19:07.175Z</iso></inputdt><createdAt type=\"str\">2022-12-05T09:52:18.533Z</createdAt><updatedAt type=\"str\">2022-12-05T09:52:18.533Z</updatedAt></item><item type=\"dict\"><objectId type=\"str\">JbFHGEiylS</objectId><name type=\"str\">Spoon</name><price type=\"int\">5000</price><color type=\"str\">Cyan</color><inputdt type=\"dict\"><__type type=\"str\">Date</__type><iso type=\"str\">2022-12-01T04:00:00.000Z</iso></inputdt><createdAt type=\"str\">2022-12-05T09:53:33.514Z</createdAt><updatedAt type=\"str\">2022-12-05T09:53:33.514Z</updatedAt></item><item type=\"dict\"><objectId type=\"str\">xA07NZYyjw</objectId><name type=\"str\">Spoon</name><price type=\"int\">5000</price><color type=\"str\">Cyan</color><inputdt type=\"dict\"><__type type=\"str\">Date</__type><iso type=\"str\">2022-12-06T03:47:30.000Z</iso></inputdt><createdAt type=\"str\">2022-12-06T03:47:32.112Z</createdAt><updatedAt type=\"str\">2022-12-06T03:47:32.112Z</updatedAt></item><item type=\"dict\"><objectId type=\"str\">w9WzI0qA5r</objectId><key type=\"str\">val</key><createdAt type=\"str\">2022-12-11T08:45:14.791Z</createdAt><updatedAt type=\"str\">2022-12-11T08:45:14.791Z</updatedAt></item></results></root>'\n"
     ]
    }
   ],
   "source": [
    "from dicttoxml import dicttoxml\n",
    "xml = dicttoxml(dict)\n",
    "print(xml)"
   ]
  },
  {
   "cell_type": "code",
   "execution_count": null,
   "id": "42199980",
   "metadata": {},
   "outputs": [],
   "source": []
  }
 ],
 "metadata": {
  "kernelspec": {
   "display_name": "Python 3 (ipykernel)",
   "language": "python",
   "name": "python3"
  },
  "language_info": {
   "codemirror_mode": {
    "name": "ipython",
    "version": 3
   },
   "file_extension": ".py",
   "mimetype": "text/x-python",
   "name": "python",
   "nbconvert_exporter": "python",
   "pygments_lexer": "ipython3",
   "version": "3.9.12"
  }
 },
 "nbformat": 4,
 "nbformat_minor": 5
}
