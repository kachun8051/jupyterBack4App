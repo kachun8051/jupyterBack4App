{
 "cells": [
  {
   "cell_type": "code",
   "execution_count": 2,
   "id": "b172b476",
   "metadata": {},
   "outputs": [],
   "source": [
    "appid = \"5vUD5SzypdFDZfa7Sxjya1yLliHMAJ52ML3sqBf6\"\n",
    "apikey = \"sgyDDR9YYlvTfkZv1datnUu75nhnnjqejm2yMFNL\"\n",
    "masterkey = \"xFPWpeqIXuGXBek7CljLVsRH72TjvQen5Rd9XxiF\""
   ]
  },
  {
   "cell_type": "code",
   "execution_count": 3,
   "id": "8bbf31fe",
   "metadata": {},
   "outputs": [
    {
     "name": "stdout",
     "output_type": "stream",
     "text": [
      "{\"packedAt\": {\"$gte\": {\"__type\": \"Date\", \"iso\": \"2022-11-12T16:00:00Z\"}, \"$lt\": {\"__type\": \"Date\", \"iso\": \"2022-11-13T16:00:00Z\"}}}\n"
     ]
    }
   ],
   "source": [
    "import json\n",
    "startingdt = '2022-11-12T16:00:00Z'\n",
    "endingdt = '2022-11-13T16:00:00Z'\n",
    "subparam_2A = {'__type': 'Date', 'iso': startingdt}\n",
    "subparam_2B = {'__type': 'Date', 'iso': endingdt}\n",
    "subparam_2 = {}\n",
    "subparam_2['$gte'] = subparam_2A\n",
    "subparam_2['$lt'] = subparam_2B\n",
    "subparam = {} \n",
    "subparam['packedAt'] = subparam_2\n",
    "# Serializing json  \n",
    "json_object = json.dumps(subparam, indent=None)\n",
    "#json_object = json.dumps(subparam, separators=(',', ':')) \n",
    "print(json_object)"
   ]
  },
  {
   "cell_type": "code",
   "execution_count": 5,
   "id": "79644083",
   "metadata": {},
   "outputs": [
    {
     "name": "stdout",
     "output_type": "stream",
     "text": [
      "https://parseapi.back4app.com/classes/Production\n",
      "{\"results\":[{\"objectId\":\"LXJo84HR61\",\"itemnum\":\"110111\",\"itemname\":\"USA Angus Premium Hotpot Beef\",\"itemname2\":\"美國安格斯特級濕式熟成肥牛\",\"itemuom\":\"100g\",\"itemuom2\":100,\"itemstandardweight\":150,\"itemprice\":41,\"weightingram\":27.8,\"sellingprice\":11.4,\"barcode\":\"011011100114002784\",\"packingdt\":\"2022/11/13 21:54:15\",\"createdAt\":\"2022-11-13T13:54:13.122Z\",\"updatedAt\":\"2022-12-06T16:43:30.012Z\",\"packedAt\":{\"__type\":\"Date\",\"iso\":\"2022-11-13T13:54:00.000Z\"}},{\"objectId\":\"vr4fN8poEq\",\"itemnum\":\"130116\",\"itemname\":\"Japan Kagoshima Pork Collar Flakes\",\"itemname2\":\"日本鹿兒島黑豚梅頭片\",\"itemuom\":\"100g\",\"itemuom2\":100,\"itemstandardweight\":100,\"itemprice\":44,\"weightingram\":27.8,\"sellingprice\":12.2,\"barcode\":\"013011600122002782\",\"packingdt\":\"2022/11/13 21:54:20\",\"createdAt\":\"2022-11-13T13:54:18.109Z\",\"updatedAt\":\"2022-12-06T16:42:25.911Z\",\"packedAt\":{\"__type\":\"Date\",\"iso\":\"2022-11-13T13:54:00.000Z\"}},{\"objectId\":\"OgfpAhVqhn\",\"itemnum\":\"130011\",\"itemname\":\"Japan Kurobuta Pork Belly Slices\",\"itemname2\":\"日本黑豚豬腩片\",\"itemuom\":\"100g\",\"itemuom2\":100,\"itemstandardweight\":350,\"itemprice\":30,\"weightingram\":27.8,\"sellingprice\":8.3,\"barcode\":\"013001100083002782\",\"packingdt\":\"2022/11/13 21:53:15\",\"createdAt\":\"2022-11-13T13:53:13.022Z\",\"updatedAt\":\"2022-12-06T16:43:20.665Z\",\"packedAt\":{\"__type\":\"Date\",\"iso\":\"2022-11-13T13:53:00.000Z\"}}]}\n"
     ]
    }
   ],
   "source": [
    "import requests\n",
    "url     = 'https://parseapi.back4app.com/classes/Production'\n",
    "params = {'where': json_object, 'order': '-packedAt'}\n",
    "headers = {'X-Parse-Application-Id': appid, \n",
    "           'X-Parse-REST-API-Key': apikey,\n",
    "           'Content-Type': 'application/json'}\n",
    "res = requests.get(url, params=params, headers=headers)\n",
    "print(url)\n",
    "print(res.content.decode('utf-8'))"
   ]
  },
  {
   "cell_type": "code",
   "execution_count": 6,
   "id": "d8071268",
   "metadata": {},
   "outputs": [
    {
     "name": "stdout",
     "output_type": "stream",
     "text": [
      "list's size: 3\n"
     ]
    }
   ],
   "source": [
    "import json\n",
    "strjson = res.content.decode('utf-8')\n",
    "dict = json.loads(strjson)\n",
    "list = dict['results']\n",
    "print(\"list's size: \" + str(len(list)))"
   ]
  },
  {
   "cell_type": "code",
   "execution_count": 9,
   "id": "a6d7c0f9",
   "metadata": {},
   "outputs": [
    {
     "name": "stdout",
     "output_type": "stream",
     "text": [
      "<?xml version=\"1.0\" encoding=\"UTF-8\" ?><root><results type=\"list\"><item type=\"dict\"><objectId type=\"str\">LXJo84HR61</objectId><itemnum type=\"str\">110111</itemnum><itemname type=\"str\">USA Angus Premium Hotpot Beef</itemname><itemname2 type=\"str\">美國安格斯特級濕式熟成肥牛</itemname2><itemuom type=\"str\">100g</itemuom><itemuom2 type=\"int\">100</itemuom2><itemstandardweight type=\"int\">150</itemstandardweight><itemprice type=\"int\">41</itemprice><weightingram type=\"float\">27.8</weightingram><sellingprice type=\"float\">11.4</sellingprice><barcode type=\"str\">011011100114002784</barcode><packingdt type=\"str\">2022/11/13 21:54:15</packingdt><createdAt type=\"str\">2022-11-13T13:54:13.122Z</createdAt><updatedAt type=\"str\">2022-12-06T16:43:30.012Z</updatedAt><packedAt type=\"dict\"><__type type=\"str\">Date</__type><iso type=\"str\">2022-11-13T13:54:00.000Z</iso></packedAt></item><item type=\"dict\"><objectId type=\"str\">vr4fN8poEq</objectId><itemnum type=\"str\">130116</itemnum><itemname type=\"str\">Japan Kagoshima Pork Collar Flakes</itemname><itemname2 type=\"str\">日本鹿兒島黑豚梅頭片</itemname2><itemuom type=\"str\">100g</itemuom><itemuom2 type=\"int\">100</itemuom2><itemstandardweight type=\"int\">100</itemstandardweight><itemprice type=\"int\">44</itemprice><weightingram type=\"float\">27.8</weightingram><sellingprice type=\"float\">12.2</sellingprice><barcode type=\"str\">013011600122002782</barcode><packingdt type=\"str\">2022/11/13 21:54:20</packingdt><createdAt type=\"str\">2022-11-13T13:54:18.109Z</createdAt><updatedAt type=\"str\">2022-12-06T16:42:25.911Z</updatedAt><packedAt type=\"dict\"><__type type=\"str\">Date</__type><iso type=\"str\">2022-11-13T13:54:00.000Z</iso></packedAt></item><item type=\"dict\"><objectId type=\"str\">OgfpAhVqhn</objectId><itemnum type=\"str\">130011</itemnum><itemname type=\"str\">Japan Kurobuta Pork Belly Slices</itemname><itemname2 type=\"str\">日本黑豚豬腩片</itemname2><itemuom type=\"str\">100g</itemuom><itemuom2 type=\"int\">100</itemuom2><itemstandardweight type=\"int\">350</itemstandardweight><itemprice type=\"int\">30</itemprice><weightingram type=\"float\">27.8</weightingram><sellingprice type=\"float\">8.3</sellingprice><barcode type=\"str\">013001100083002782</barcode><packingdt type=\"str\">2022/11/13 21:53:15</packingdt><createdAt type=\"str\">2022-11-13T13:53:13.022Z</createdAt><updatedAt type=\"str\">2022-12-06T16:43:20.665Z</updatedAt><packedAt type=\"dict\"><__type type=\"str\">Date</__type><iso type=\"str\">2022-11-13T13:53:00.000Z</iso></packedAt></item></results></root>\n"
     ]
    }
   ],
   "source": [
    "from dicttoxml import dicttoxml\n",
    "xmlString = dicttoxml(dict)\n",
    "print(xmlString.decode('utf-8'))"
   ]
  },
  {
   "cell_type": "code",
   "execution_count": 34,
   "id": "01a3da8a",
   "metadata": {},
   "outputs": [
    {
     "name": "stdout",
     "output_type": "stream",
     "text": [
      "<root><results><item><objectId>LXJo84HR61</objectId><itemnum>110111</itemnum><itemname>USA Angus Premium Hotpot Beef</itemname><itemname2>美國安格斯特級濕式熟成肥牛</itemname2><itemuom>100g</itemuom><itemuom2>100</itemuom2><itemstandardweight>150</itemstandardweight><itemprice>41</itemprice><weightingram>27.8</weightingram><sellingprice>11.4</sellingprice><barcode>011011100114002784</barcode><packingdt>2022/11/13 21:54:15</packingdt><createdAt>2022-11-13T13:54:13.122Z</createdAt><updatedAt>2022-12-06T16:43:30.012Z</updatedAt></item><item><objectId>vr4fN8poEq</objectId><itemnum>130116</itemnum><itemname>Japan Kagoshima Pork Collar Flakes</itemname><itemname2>日本鹿兒島黑豚梅頭片</itemname2><itemuom>100g</itemuom><itemuom2>100</itemuom2><itemstandardweight>100</itemstandardweight><itemprice>44</itemprice><weightingram>27.8</weightingram><sellingprice>12.2</sellingprice><barcode>013011600122002782</barcode><packingdt>2022/11/13 21:54:20</packingdt><createdAt>2022-11-13T13:54:18.109Z</createdAt><updatedAt>2022-12-06T16:42:25.911Z</updatedAt></item><item><objectId>OgfpAhVqhn</objectId><itemnum>130011</itemnum><itemname>Japan Kurobuta Pork Belly Slices</itemname><itemname2>日本黑豚豬腩片</itemname2><itemuom>100g</itemuom><itemuom2>100</itemuom2><itemstandardweight>350</itemstandardweight><itemprice>30</itemprice><weightingram>27.8</weightingram><sellingprice>8.3</sellingprice><barcode>013001100083002782</barcode><packingdt>2022/11/13 21:53:15</packingdt><createdAt>2022-11-13T13:53:13.022Z</createdAt><updatedAt>2022-12-06T16:43:20.665Z</updatedAt></item></results></root>\n"
     ]
    }
   ],
   "source": [
    "import xml.etree.ElementTree as ET\n",
    "root = ET.fromstring(xmlString.decode('utf-8'))\n",
    "results = root.findall('results')\n",
    "# 1. remove packedAt node\n",
    "for result in results:\n",
    "  items = result.findall('item')\n",
    "  for item in items:\n",
    "    packedAt = item.find('packedAt')\n",
    "    item.remove(packedAt)\n",
    "# 2. remove type attribute \n",
    "for elt in root.iter():    \n",
    "    elt.attrib.pop(\"type\", None)    \n",
    "    # print(\"%s: '%s'\" % (elt.tag, elt.text))\n",
    "print(ET.tostring(root, encoding='unicode', method='xml'))"
   ]
  },
  {
   "cell_type": "code",
   "execution_count": null,
   "id": "baaa9f28",
   "metadata": {},
   "outputs": [],
   "source": []
  }
 ],
 "metadata": {
  "kernelspec": {
   "display_name": "Python 3 (ipykernel)",
   "language": "python",
   "name": "python3"
  },
  "language_info": {
   "codemirror_mode": {
    "name": "ipython",
    "version": 3
   },
   "file_extension": ".py",
   "mimetype": "text/x-python",
   "name": "python",
   "nbconvert_exporter": "python",
   "pygments_lexer": "ipython3",
   "version": "3.9.12"
  }
 },
 "nbformat": 4,
 "nbformat_minor": 5
}
