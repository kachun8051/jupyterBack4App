{
 "cells": [
  {
   "cell_type": "code",
   "execution_count": 8,
   "id": "b172b476",
   "metadata": {},
   "outputs": [],
   "source": [
    "appid = \"5vUD5SzypdFDZfa7Sxjya1yLliHMAJ52ML3sqBf6\"\n",
    "apikey = \"sgyDDR9YYlvTfkZv1datnUu75nhnnjqejm2yMFNL\"\n",
    "masterkey = \"xFPWpeqIXuGXBek7CljLVsRH72TjvQen5Rd9XxiF\""
   ]
  },
  {
   "cell_type": "code",
   "execution_count": 9,
   "id": "8bbf31fe",
   "metadata": {},
   "outputs": [
    {
     "name": "stdout",
     "output_type": "stream",
     "text": [
      "{\"packedAt\": {\"$gte\": {\"__type\": \"Date\", \"iso\": \"2022-11-01T16:00:00Z\"}, \"$lt\": {\"__type\": \"Date\", \"iso\": \"2022-12-01T16:00:00Z\"}}}\n"
     ]
    }
   ],
   "source": [
    "import json\n",
    "startingdt = '2022-11-01T16:00:00Z'\n",
    "endingdt = '2022-12-01T16:00:00Z'\n",
    "subparam_2A = {'__type': 'Date', 'iso': startingdt}\n",
    "subparam_2B = {'__type': 'Date', 'iso': endingdt}\n",
    "subparam_2 = {}\n",
    "subparam_2['$gte'] = subparam_2A\n",
    "subparam_2['$lt'] = subparam_2B\n",
    "subparam = {} \n",
    "subparam['packedAt'] = subparam_2\n",
    "# Serializing json  \n",
    "json_object = json.dumps(subparam, indent=None)\n",
    "#json_object = json.dumps(subparam, separators=(',', ':')) \n",
    "print(json_object)"
   ]
  },
  {
   "cell_type": "code",
   "execution_count": 10,
   "id": "79644083",
   "metadata": {},
   "outputs": [
    {
     "name": "stdout",
     "output_type": "stream",
     "text": [
      "https://parseapi.back4app.com/classes/Production\n",
      "{\"results\":[{\"objectId\":\"qEcCk8OIv4\",\"itemnum\":\"110115\",\"itemname\":\"USA Angus Wet-aged Tenderloin\",\"itemname2\":\"美國安格斯牛肋骨\",\"itemuom\":\"100g\",\"itemuom2\":100,\"itemstandardweight\":100,\"itemprice\":26,\"weightingram\":146.4,\"sellingprice\":38.1,\"barcode\":\"011011500381014648\",\"packingdt\":\"2022/11/23 21:53:55\",\"createdAt\":\"2022-11-23T13:53:53.223Z\",\"updatedAt\":\"2022-12-06T16:42:36.384Z\",\"packedAt\":{\"__type\":\"Date\",\"iso\":\"2022-11-23T14:50:00.000Z\"}},{\"objectId\":\"K0I643nyRP\",\"itemnum\":\"130011\",\"itemname\":\"Japan Kurobuta Pork Belly Slices\",\"itemname2\":\"日本黑豚豬腩片\",\"itemuom\":\"100g\",\"itemuom2\":100,\"itemstandardweight\":350,\"itemprice\":30,\"weightingram\":95.8,\"sellingprice\":28.7,\"barcode\":\"013001100287009583\",\"packingdt\":\"2022/11/23 21:49:42\",\"createdAt\":\"2022-11-23T13:49:41.165Z\",\"updatedAt\":\"2022-12-06T16:43:41.831Z\",\"packedAt\":{\"__type\":\"Date\",\"iso\":\"2022-11-23T13:49:00.000Z\"}},{\"objectId\":\"JUZGHZeVY2\",\"itemnum\":\"130125\",\"itemname\":\"Japan Kagoshima Pork Tenderloin\",\"itemname2\":\"日本鹿兒島黑豚豬柳\",\"itemuom\":\"100g\",\"itemuom2\":100,\"itemstandardweight\":300,\"itemprice\":44,\"weightingram\":74.3,\"sellingprice\":32.7,\"barcode\":\"013012500327007438\",\"packingdt\":\"2022/11/23 21:50:13\",\"createdAt\":\"2022-11-23T13:50:11.575Z\",\"updatedAt\":\"2022-12-06T16:45:06.503Z\",\"packedAt\":{\"__type\":\"Date\",\"iso\":\"2022-11-23T05:44:00.000Z\"}},{\"objectId\":\"wFP8O0TeOa\",\"itemnum\":\"120109\",\"itemname\":\"Japan Kyushu A4 Wagyu Striploin Steak\",\"itemname2\":\"日本九州極上和牛西冷扒\",\"itemuom\":\"100g\",\"itemuom2\":100,\"itemstandardweight\":200,\"itemprice\":198,\"weightingram\":102.2,\"sellingprice\":202.4,\"barcode\":\"012010902024010228\",\"packingdt\":\"2022/11/21 07:55:12\",\"createdAt\":\"2022-11-20T23:55:12.395Z\",\"updatedAt\":\"2022-12-06T16:42:16.911Z\",\"packedAt\":{\"__type\":\"Date\",\"iso\":\"2022-11-20T23:55:00.000Z\"}},{\"objectId\":\"n0yBVvsvNx\",\"itemnum\":\"120016\",\"itemname\":\"Japan Wagyu Dice\",\"itemname2\":\"日本和牛粒\",\"itemuom\":\"100g\",\"itemuom2\":100,\"itemstandardweight\":200,\"itemprice\":38,\"weightingram\":102.2,\"sellingprice\":38.8,\"barcode\":\"012001600388010224\",\"packingdt\":\"2022/11/21 07:55:24\",\"createdAt\":\"2022-11-20T23:55:24.506Z\",\"updatedAt\":\"2022-12-06T16:42:48.345Z\",\"packedAt\":{\"__type\":\"Date\",\"iso\":\"2022-11-20T23:55:00.000Z\"}},{\"objectId\":\"PCse7etzEC\",\"itemnum\":\"140102\",\"itemname\":\"Holland Cod Fish Portion\",\"itemname2\":\"荷蘭鱈魚塊\",\"itemuom\":\"100g\",\"itemuom2\":100,\"itemstandardweight\":350,\"itemprice\":20,\"weightingram\":102.2,\"sellingprice\":20.4,\"barcode\":\"014010200204010221\",\"packingdt\":\"2022/11/21 07:55:29\",\"createdAt\":\"2022-11-20T23:55:29.505Z\",\"updatedAt\":\"2022-12-06T16:43:11.175Z\",\"packedAt\":{\"__type\":\"Date\",\"iso\":\"2022-11-20T23:55:00.000Z\"}},{\"objectId\":\"EiPmagexZI\",\"itemnum\":\"120016\",\"itemname\":\"Japan Wagyu Dice\",\"itemname2\":\"日本和牛粒\",\"itemuom\":\"100g\",\"itemuom2\":100,\"itemstandardweight\":200,\"itemprice\":38,\"weightingram\":102.2,\"sellingprice\":38.8,\"barcode\":\"012001600388010224\",\"packingdt\":\"2022/11/21 07:55:37\",\"createdAt\":\"2022-11-20T23:55:37.841Z\",\"updatedAt\":\"2022-12-06T16:43:58.001Z\",\"packedAt\":{\"__type\":\"Date\",\"iso\":\"2022-11-20T23:46:00.000Z\"}},{\"objectId\":\"f7T8cjZQoA\",\"itemnum\":\"140103\",\"itemname\":\"Holland Sole\",\"itemname2\":\"荷蘭龍利魚\",\"itemuom\":\"100g\",\"itemuom2\":100,\"itemstandardweight\":200,\"itemprice\":22,\"weightingram\":27.8,\"sellingprice\":6.1,\"barcode\":\"014010300061002789\",\"packingdt\":\"2022/11/15 21:53:54\",\"createdAt\":\"2022-11-13T13:53:51.977Z\",\"updatedAt\":\"2022-12-06T16:42:59.360Z\",\"packedAt\":{\"__type\":\"Date\",\"iso\":\"2022-11-15T14:53:00.000Z\"}},{\"objectId\":\"xMDk0mJx39\",\"itemnum\":\"160002\",\"itemname\":\"Spain Iberian Pork Jowl Meat\",\"itemname2\":\"西班牙黑毛豬頸肉\",\"itemuom\":\"100g\",\"itemuom2\":100,\"itemstandardweight\":250,\"itemprice\":36,\"weightingram\":27.7,\"sellingprice\":10,\"barcode\":\"016000200100002776\",\"packingdt\":\"2022/11/14 21:54:23\",\"createdAt\":\"2022-11-13T13:54:21.004Z\",\"updatedAt\":\"2022-12-06T16:42:07.114Z\",\"packedAt\":{\"__type\":\"Date\",\"iso\":\"2022-11-14T13:54:00.000Z\"}},{\"objectId\":\"LXJo84HR61\",\"itemnum\":\"110111\",\"itemname\":\"USA Angus Premium Hotpot Beef\",\"itemname2\":\"美國安格斯特級濕式熟成肥牛\",\"itemuom\":\"100g\",\"itemuom2\":100,\"itemstandardweight\":150,\"itemprice\":41,\"weightingram\":27.8,\"sellingprice\":11.4,\"barcode\":\"011011100114002784\",\"packingdt\":\"2022/11/13 21:54:15\",\"createdAt\":\"2022-11-13T13:54:13.122Z\",\"updatedAt\":\"2022-12-06T16:43:30.012Z\",\"packedAt\":{\"__type\":\"Date\",\"iso\":\"2022-11-13T13:54:00.000Z\"}},{\"objectId\":\"vr4fN8poEq\",\"itemnum\":\"130116\",\"itemname\":\"Japan Kagoshima Pork Collar Flakes\",\"itemname2\":\"日本鹿兒島黑豚梅頭片\",\"itemuom\":\"100g\",\"itemuom2\":100,\"itemstandardweight\":100,\"itemprice\":44,\"weightingram\":27.8,\"sellingprice\":12.2,\"barcode\":\"013011600122002782\",\"packingdt\":\"2022/11/13 21:54:20\",\"createdAt\":\"2022-11-13T13:54:18.109Z\",\"updatedAt\":\"2022-12-06T16:42:25.911Z\",\"packedAt\":{\"__type\":\"Date\",\"iso\":\"2022-11-13T13:54:00.000Z\"}},{\"objectId\":\"OgfpAhVqhn\",\"itemnum\":\"130011\",\"itemname\":\"Japan Kurobuta Pork Belly Slices\",\"itemname2\":\"日本黑豚豬腩片\",\"itemuom\":\"100g\",\"itemuom2\":100,\"itemstandardweight\":350,\"itemprice\":30,\"weightingram\":27.8,\"sellingprice\":8.3,\"barcode\":\"013001100083002782\",\"packingdt\":\"2022/11/13 21:53:15\",\"createdAt\":\"2022-11-13T13:53:13.022Z\",\"updatedAt\":\"2022-12-06T16:43:20.665Z\",\"packedAt\":{\"__type\":\"Date\",\"iso\":\"2022-11-13T13:53:00.000Z\"}}]}\n"
     ]
    }
   ],
   "source": [
    "import requests\n",
    "url     = 'https://parseapi.back4app.com/classes/Production'\n",
    "params = {'where': json_object, 'order': '-packedAt'}\n",
    "headers = {'X-Parse-Application-Id': appid, \n",
    "           'X-Parse-REST-API-Key': apikey,\n",
    "           'Content-Type': 'application/json'}\n",
    "res = requests.get(url, params=params, headers=headers)\n",
    "print(url)\n",
    "print(res.content.decode('utf-8'))"
   ]
  },
  {
   "cell_type": "code",
   "execution_count": 11,
   "id": "d8071268",
   "metadata": {},
   "outputs": [
    {
     "name": "stdout",
     "output_type": "stream",
     "text": [
      "list's size: 12\n"
     ]
    }
   ],
   "source": [
    "import json\n",
    "strjson = res.content.decode('utf-8')\n",
    "dict = json.loads(strjson)\n",
    "list = dict['results']\n",
    "print(\"list's size: \" + str(len(list)))"
   ]
  },
  {
   "cell_type": "code",
   "execution_count": 12,
   "id": "a6d7c0f9",
   "metadata": {},
   "outputs": [
    {
     "name": "stdout",
     "output_type": "stream",
     "text": [
      "<?xml version=\"1.0\" encoding=\"UTF-8\" ?><root><results type=\"list\"><item type=\"dict\"><objectId type=\"str\">qEcCk8OIv4</objectId><itemnum type=\"str\">110115</itemnum><itemname type=\"str\">USA Angus Wet-aged Tenderloin</itemname><itemname2 type=\"str\">美國安格斯牛肋骨</itemname2><itemuom type=\"str\">100g</itemuom><itemuom2 type=\"int\">100</itemuom2><itemstandardweight type=\"int\">100</itemstandardweight><itemprice type=\"int\">26</itemprice><weightingram type=\"float\">146.4</weightingram><sellingprice type=\"float\">38.1</sellingprice><barcode type=\"str\">011011500381014648</barcode><packingdt type=\"str\">2022/11/23 21:53:55</packingdt><createdAt type=\"str\">2022-11-23T13:53:53.223Z</createdAt><updatedAt type=\"str\">2022-12-06T16:42:36.384Z</updatedAt><packedAt type=\"dict\"><__type type=\"str\">Date</__type><iso type=\"str\">2022-11-23T14:50:00.000Z</iso></packedAt></item><item type=\"dict\"><objectId type=\"str\">K0I643nyRP</objectId><itemnum type=\"str\">130011</itemnum><itemname type=\"str\">Japan Kurobuta Pork Belly Slices</itemname><itemname2 type=\"str\">日本黑豚豬腩片</itemname2><itemuom type=\"str\">100g</itemuom><itemuom2 type=\"int\">100</itemuom2><itemstandardweight type=\"int\">350</itemstandardweight><itemprice type=\"int\">30</itemprice><weightingram type=\"float\">95.8</weightingram><sellingprice type=\"float\">28.7</sellingprice><barcode type=\"str\">013001100287009583</barcode><packingdt type=\"str\">2022/11/23 21:49:42</packingdt><createdAt type=\"str\">2022-11-23T13:49:41.165Z</createdAt><updatedAt type=\"str\">2022-12-06T16:43:41.831Z</updatedAt><packedAt type=\"dict\"><__type type=\"str\">Date</__type><iso type=\"str\">2022-11-23T13:49:00.000Z</iso></packedAt></item><item type=\"dict\"><objectId type=\"str\">JUZGHZeVY2</objectId><itemnum type=\"str\">130125</itemnum><itemname type=\"str\">Japan Kagoshima Pork Tenderloin</itemname><itemname2 type=\"str\">日本鹿兒島黑豚豬柳</itemname2><itemuom type=\"str\">100g</itemuom><itemuom2 type=\"int\">100</itemuom2><itemstandardweight type=\"int\">300</itemstandardweight><itemprice type=\"int\">44</itemprice><weightingram type=\"float\">74.3</weightingram><sellingprice type=\"float\">32.7</sellingprice><barcode type=\"str\">013012500327007438</barcode><packingdt type=\"str\">2022/11/23 21:50:13</packingdt><createdAt type=\"str\">2022-11-23T13:50:11.575Z</createdAt><updatedAt type=\"str\">2022-12-06T16:45:06.503Z</updatedAt><packedAt type=\"dict\"><__type type=\"str\">Date</__type><iso type=\"str\">2022-11-23T05:44:00.000Z</iso></packedAt></item><item type=\"dict\"><objectId type=\"str\">wFP8O0TeOa</objectId><itemnum type=\"str\">120109</itemnum><itemname type=\"str\">Japan Kyushu A4 Wagyu Striploin Steak</itemname><itemname2 type=\"str\">日本九州極上和牛西冷扒</itemname2><itemuom type=\"str\">100g</itemuom><itemuom2 type=\"int\">100</itemuom2><itemstandardweight type=\"int\">200</itemstandardweight><itemprice type=\"int\">198</itemprice><weightingram type=\"float\">102.2</weightingram><sellingprice type=\"float\">202.4</sellingprice><barcode type=\"str\">012010902024010228</barcode><packingdt type=\"str\">2022/11/21 07:55:12</packingdt><createdAt type=\"str\">2022-11-20T23:55:12.395Z</createdAt><updatedAt type=\"str\">2022-12-06T16:42:16.911Z</updatedAt><packedAt type=\"dict\"><__type type=\"str\">Date</__type><iso type=\"str\">2022-11-20T23:55:00.000Z</iso></packedAt></item><item type=\"dict\"><objectId type=\"str\">n0yBVvsvNx</objectId><itemnum type=\"str\">120016</itemnum><itemname type=\"str\">Japan Wagyu Dice</itemname><itemname2 type=\"str\">日本和牛粒</itemname2><itemuom type=\"str\">100g</itemuom><itemuom2 type=\"int\">100</itemuom2><itemstandardweight type=\"int\">200</itemstandardweight><itemprice type=\"int\">38</itemprice><weightingram type=\"float\">102.2</weightingram><sellingprice type=\"float\">38.8</sellingprice><barcode type=\"str\">012001600388010224</barcode><packingdt type=\"str\">2022/11/21 07:55:24</packingdt><createdAt type=\"str\">2022-11-20T23:55:24.506Z</createdAt><updatedAt type=\"str\">2022-12-06T16:42:48.345Z</updatedAt><packedAt type=\"dict\"><__type type=\"str\">Date</__type><iso type=\"str\">2022-11-20T23:55:00.000Z</iso></packedAt></item><item type=\"dict\"><objectId type=\"str\">PCse7etzEC</objectId><itemnum type=\"str\">140102</itemnum><itemname type=\"str\">Holland Cod Fish Portion</itemname><itemname2 type=\"str\">荷蘭鱈魚塊</itemname2><itemuom type=\"str\">100g</itemuom><itemuom2 type=\"int\">100</itemuom2><itemstandardweight type=\"int\">350</itemstandardweight><itemprice type=\"int\">20</itemprice><weightingram type=\"float\">102.2</weightingram><sellingprice type=\"float\">20.4</sellingprice><barcode type=\"str\">014010200204010221</barcode><packingdt type=\"str\">2022/11/21 07:55:29</packingdt><createdAt type=\"str\">2022-11-20T23:55:29.505Z</createdAt><updatedAt type=\"str\">2022-12-06T16:43:11.175Z</updatedAt><packedAt type=\"dict\"><__type type=\"str\">Date</__type><iso type=\"str\">2022-11-20T23:55:00.000Z</iso></packedAt></item><item type=\"dict\"><objectId type=\"str\">EiPmagexZI</objectId><itemnum type=\"str\">120016</itemnum><itemname type=\"str\">Japan Wagyu Dice</itemname><itemname2 type=\"str\">日本和牛粒</itemname2><itemuom type=\"str\">100g</itemuom><itemuom2 type=\"int\">100</itemuom2><itemstandardweight type=\"int\">200</itemstandardweight><itemprice type=\"int\">38</itemprice><weightingram type=\"float\">102.2</weightingram><sellingprice type=\"float\">38.8</sellingprice><barcode type=\"str\">012001600388010224</barcode><packingdt type=\"str\">2022/11/21 07:55:37</packingdt><createdAt type=\"str\">2022-11-20T23:55:37.841Z</createdAt><updatedAt type=\"str\">2022-12-06T16:43:58.001Z</updatedAt><packedAt type=\"dict\"><__type type=\"str\">Date</__type><iso type=\"str\">2022-11-20T23:46:00.000Z</iso></packedAt></item><item type=\"dict\"><objectId type=\"str\">f7T8cjZQoA</objectId><itemnum type=\"str\">140103</itemnum><itemname type=\"str\">Holland Sole</itemname><itemname2 type=\"str\">荷蘭龍利魚</itemname2><itemuom type=\"str\">100g</itemuom><itemuom2 type=\"int\">100</itemuom2><itemstandardweight type=\"int\">200</itemstandardweight><itemprice type=\"int\">22</itemprice><weightingram type=\"float\">27.8</weightingram><sellingprice type=\"float\">6.1</sellingprice><barcode type=\"str\">014010300061002789</barcode><packingdt type=\"str\">2022/11/15 21:53:54</packingdt><createdAt type=\"str\">2022-11-13T13:53:51.977Z</createdAt><updatedAt type=\"str\">2022-12-06T16:42:59.360Z</updatedAt><packedAt type=\"dict\"><__type type=\"str\">Date</__type><iso type=\"str\">2022-11-15T14:53:00.000Z</iso></packedAt></item><item type=\"dict\"><objectId type=\"str\">xMDk0mJx39</objectId><itemnum type=\"str\">160002</itemnum><itemname type=\"str\">Spain Iberian Pork Jowl Meat</itemname><itemname2 type=\"str\">西班牙黑毛豬頸肉</itemname2><itemuom type=\"str\">100g</itemuom><itemuom2 type=\"int\">100</itemuom2><itemstandardweight type=\"int\">250</itemstandardweight><itemprice type=\"int\">36</itemprice><weightingram type=\"float\">27.7</weightingram><sellingprice type=\"int\">10</sellingprice><barcode type=\"str\">016000200100002776</barcode><packingdt type=\"str\">2022/11/14 21:54:23</packingdt><createdAt type=\"str\">2022-11-13T13:54:21.004Z</createdAt><updatedAt type=\"str\">2022-12-06T16:42:07.114Z</updatedAt><packedAt type=\"dict\"><__type type=\"str\">Date</__type><iso type=\"str\">2022-11-14T13:54:00.000Z</iso></packedAt></item><item type=\"dict\"><objectId type=\"str\">LXJo84HR61</objectId><itemnum type=\"str\">110111</itemnum><itemname type=\"str\">USA Angus Premium Hotpot Beef</itemname><itemname2 type=\"str\">美國安格斯特級濕式熟成肥牛</itemname2><itemuom type=\"str\">100g</itemuom><itemuom2 type=\"int\">100</itemuom2><itemstandardweight type=\"int\">150</itemstandardweight><itemprice type=\"int\">41</itemprice><weightingram type=\"float\">27.8</weightingram><sellingprice type=\"float\">11.4</sellingprice><barcode type=\"str\">011011100114002784</barcode><packingdt type=\"str\">2022/11/13 21:54:15</packingdt><createdAt type=\"str\">2022-11-13T13:54:13.122Z</createdAt><updatedAt type=\"str\">2022-12-06T16:43:30.012Z</updatedAt><packedAt type=\"dict\"><__type type=\"str\">Date</__type><iso type=\"str\">2022-11-13T13:54:00.000Z</iso></packedAt></item><item type=\"dict\"><objectId type=\"str\">vr4fN8poEq</objectId><itemnum type=\"str\">130116</itemnum><itemname type=\"str\">Japan Kagoshima Pork Collar Flakes</itemname><itemname2 type=\"str\">日本鹿兒島黑豚梅頭片</itemname2><itemuom type=\"str\">100g</itemuom><itemuom2 type=\"int\">100</itemuom2><itemstandardweight type=\"int\">100</itemstandardweight><itemprice type=\"int\">44</itemprice><weightingram type=\"float\">27.8</weightingram><sellingprice type=\"float\">12.2</sellingprice><barcode type=\"str\">013011600122002782</barcode><packingdt type=\"str\">2022/11/13 21:54:20</packingdt><createdAt type=\"str\">2022-11-13T13:54:18.109Z</createdAt><updatedAt type=\"str\">2022-12-06T16:42:25.911Z</updatedAt><packedAt type=\"dict\"><__type type=\"str\">Date</__type><iso type=\"str\">2022-11-13T13:54:00.000Z</iso></packedAt></item><item type=\"dict\"><objectId type=\"str\">OgfpAhVqhn</objectId><itemnum type=\"str\">130011</itemnum><itemname type=\"str\">Japan Kurobuta Pork Belly Slices</itemname><itemname2 type=\"str\">日本黑豚豬腩片</itemname2><itemuom type=\"str\">100g</itemuom><itemuom2 type=\"int\">100</itemuom2><itemstandardweight type=\"int\">350</itemstandardweight><itemprice type=\"int\">30</itemprice><weightingram type=\"float\">27.8</weightingram><sellingprice type=\"float\">8.3</sellingprice><barcode type=\"str\">013001100083002782</barcode><packingdt type=\"str\">2022/11/13 21:53:15</packingdt><createdAt type=\"str\">2022-11-13T13:53:13.022Z</createdAt><updatedAt type=\"str\">2022-12-06T16:43:20.665Z</updatedAt><packedAt type=\"dict\"><__type type=\"str\">Date</__type><iso type=\"str\">2022-11-13T13:53:00.000Z</iso></packedAt></item></results></root>\n"
     ]
    }
   ],
   "source": [
    "from dicttoxml import dicttoxml\n",
    "xmlString = dicttoxml(dict)\n",
    "print(xmlString.decode('utf-8'))"
   ]
  },
  {
   "cell_type": "code",
   "execution_count": 13,
   "id": "01a3da8a",
   "metadata": {},
   "outputs": [
    {
     "name": "stdout",
     "output_type": "stream",
     "text": [
      "<root><results><item><objectId>qEcCk8OIv4</objectId><itemnum>110115</itemnum><itemname>USA Angus Wet-aged Tenderloin</itemname><itemname2>美國安格斯牛肋骨</itemname2><itemuom>100g</itemuom><itemuom2>100</itemuom2><itemstandardweight>100</itemstandardweight><itemprice>26</itemprice><weightingram>146.4</weightingram><sellingprice>38.1</sellingprice><barcode>011011500381014648</barcode><packingdt>2022/11/23 21:53:55</packingdt><createdAt>2022-11-23T13:53:53.223Z</createdAt><updatedAt>2022-12-06T16:42:36.384Z</updatedAt></item><item><objectId>K0I643nyRP</objectId><itemnum>130011</itemnum><itemname>Japan Kurobuta Pork Belly Slices</itemname><itemname2>日本黑豚豬腩片</itemname2><itemuom>100g</itemuom><itemuom2>100</itemuom2><itemstandardweight>350</itemstandardweight><itemprice>30</itemprice><weightingram>95.8</weightingram><sellingprice>28.7</sellingprice><barcode>013001100287009583</barcode><packingdt>2022/11/23 21:49:42</packingdt><createdAt>2022-11-23T13:49:41.165Z</createdAt><updatedAt>2022-12-06T16:43:41.831Z</updatedAt></item><item><objectId>JUZGHZeVY2</objectId><itemnum>130125</itemnum><itemname>Japan Kagoshima Pork Tenderloin</itemname><itemname2>日本鹿兒島黑豚豬柳</itemname2><itemuom>100g</itemuom><itemuom2>100</itemuom2><itemstandardweight>300</itemstandardweight><itemprice>44</itemprice><weightingram>74.3</weightingram><sellingprice>32.7</sellingprice><barcode>013012500327007438</barcode><packingdt>2022/11/23 21:50:13</packingdt><createdAt>2022-11-23T13:50:11.575Z</createdAt><updatedAt>2022-12-06T16:45:06.503Z</updatedAt></item><item><objectId>wFP8O0TeOa</objectId><itemnum>120109</itemnum><itemname>Japan Kyushu A4 Wagyu Striploin Steak</itemname><itemname2>日本九州極上和牛西冷扒</itemname2><itemuom>100g</itemuom><itemuom2>100</itemuom2><itemstandardweight>200</itemstandardweight><itemprice>198</itemprice><weightingram>102.2</weightingram><sellingprice>202.4</sellingprice><barcode>012010902024010228</barcode><packingdt>2022/11/21 07:55:12</packingdt><createdAt>2022-11-20T23:55:12.395Z</createdAt><updatedAt>2022-12-06T16:42:16.911Z</updatedAt></item><item><objectId>n0yBVvsvNx</objectId><itemnum>120016</itemnum><itemname>Japan Wagyu Dice</itemname><itemname2>日本和牛粒</itemname2><itemuom>100g</itemuom><itemuom2>100</itemuom2><itemstandardweight>200</itemstandardweight><itemprice>38</itemprice><weightingram>102.2</weightingram><sellingprice>38.8</sellingprice><barcode>012001600388010224</barcode><packingdt>2022/11/21 07:55:24</packingdt><createdAt>2022-11-20T23:55:24.506Z</createdAt><updatedAt>2022-12-06T16:42:48.345Z</updatedAt></item><item><objectId>PCse7etzEC</objectId><itemnum>140102</itemnum><itemname>Holland Cod Fish Portion</itemname><itemname2>荷蘭鱈魚塊</itemname2><itemuom>100g</itemuom><itemuom2>100</itemuom2><itemstandardweight>350</itemstandardweight><itemprice>20</itemprice><weightingram>102.2</weightingram><sellingprice>20.4</sellingprice><barcode>014010200204010221</barcode><packingdt>2022/11/21 07:55:29</packingdt><createdAt>2022-11-20T23:55:29.505Z</createdAt><updatedAt>2022-12-06T16:43:11.175Z</updatedAt></item><item><objectId>EiPmagexZI</objectId><itemnum>120016</itemnum><itemname>Japan Wagyu Dice</itemname><itemname2>日本和牛粒</itemname2><itemuom>100g</itemuom><itemuom2>100</itemuom2><itemstandardweight>200</itemstandardweight><itemprice>38</itemprice><weightingram>102.2</weightingram><sellingprice>38.8</sellingprice><barcode>012001600388010224</barcode><packingdt>2022/11/21 07:55:37</packingdt><createdAt>2022-11-20T23:55:37.841Z</createdAt><updatedAt>2022-12-06T16:43:58.001Z</updatedAt></item><item><objectId>f7T8cjZQoA</objectId><itemnum>140103</itemnum><itemname>Holland Sole</itemname><itemname2>荷蘭龍利魚</itemname2><itemuom>100g</itemuom><itemuom2>100</itemuom2><itemstandardweight>200</itemstandardweight><itemprice>22</itemprice><weightingram>27.8</weightingram><sellingprice>6.1</sellingprice><barcode>014010300061002789</barcode><packingdt>2022/11/15 21:53:54</packingdt><createdAt>2022-11-13T13:53:51.977Z</createdAt><updatedAt>2022-12-06T16:42:59.360Z</updatedAt></item><item><objectId>xMDk0mJx39</objectId><itemnum>160002</itemnum><itemname>Spain Iberian Pork Jowl Meat</itemname><itemname2>西班牙黑毛豬頸肉</itemname2><itemuom>100g</itemuom><itemuom2>100</itemuom2><itemstandardweight>250</itemstandardweight><itemprice>36</itemprice><weightingram>27.7</weightingram><sellingprice>10</sellingprice><barcode>016000200100002776</barcode><packingdt>2022/11/14 21:54:23</packingdt><createdAt>2022-11-13T13:54:21.004Z</createdAt><updatedAt>2022-12-06T16:42:07.114Z</updatedAt></item><item><objectId>LXJo84HR61</objectId><itemnum>110111</itemnum><itemname>USA Angus Premium Hotpot Beef</itemname><itemname2>美國安格斯特級濕式熟成肥牛</itemname2><itemuom>100g</itemuom><itemuom2>100</itemuom2><itemstandardweight>150</itemstandardweight><itemprice>41</itemprice><weightingram>27.8</weightingram><sellingprice>11.4</sellingprice><barcode>011011100114002784</barcode><packingdt>2022/11/13 21:54:15</packingdt><createdAt>2022-11-13T13:54:13.122Z</createdAt><updatedAt>2022-12-06T16:43:30.012Z</updatedAt></item><item><objectId>vr4fN8poEq</objectId><itemnum>130116</itemnum><itemname>Japan Kagoshima Pork Collar Flakes</itemname><itemname2>日本鹿兒島黑豚梅頭片</itemname2><itemuom>100g</itemuom><itemuom2>100</itemuom2><itemstandardweight>100</itemstandardweight><itemprice>44</itemprice><weightingram>27.8</weightingram><sellingprice>12.2</sellingprice><barcode>013011600122002782</barcode><packingdt>2022/11/13 21:54:20</packingdt><createdAt>2022-11-13T13:54:18.109Z</createdAt><updatedAt>2022-12-06T16:42:25.911Z</updatedAt></item><item><objectId>OgfpAhVqhn</objectId><itemnum>130011</itemnum><itemname>Japan Kurobuta Pork Belly Slices</itemname><itemname2>日本黑豚豬腩片</itemname2><itemuom>100g</itemuom><itemuom2>100</itemuom2><itemstandardweight>350</itemstandardweight><itemprice>30</itemprice><weightingram>27.8</weightingram><sellingprice>8.3</sellingprice><barcode>013001100083002782</barcode><packingdt>2022/11/13 21:53:15</packingdt><createdAt>2022-11-13T13:53:13.022Z</createdAt><updatedAt>2022-12-06T16:43:20.665Z</updatedAt></item></results></root>\n"
     ]
    }
   ],
   "source": [
    "import xml.etree.ElementTree as ET\n",
    "root = ET.fromstring(xmlString.decode('utf-8'))\n",
    "results = root.findall('results')\n",
    "# 1. remove packedAt node\n",
    "for result in results:\n",
    "  items = result.findall('item')\n",
    "  for item in items:\n",
    "    packedAt = item.find('packedAt')\n",
    "    item.remove(packedAt)\n",
    "# 2. remove type attribute \n",
    "for elt in root.iter():    \n",
    "    elt.attrib.pop(\"type\", None)    \n",
    "    # print(\"%s: '%s'\" % (elt.tag, elt.text))\n",
    "print(ET.tostring(root, encoding='unicode', method='xml'))"
   ]
  },
  {
   "cell_type": "code",
   "execution_count": null,
   "id": "baaa9f28",
   "metadata": {},
   "outputs": [],
   "source": []
  }
 ],
 "metadata": {
  "kernelspec": {
   "display_name": "Python 3 (ipykernel)",
   "language": "python",
   "name": "python3"
  },
  "language_info": {
   "codemirror_mode": {
    "name": "ipython",
    "version": 3
   },
   "file_extension": ".py",
   "mimetype": "text/x-python",
   "name": "python",
   "nbconvert_exporter": "python",
   "pygments_lexer": "ipython3",
   "version": "3.9.15"
  }
 },
 "nbformat": 4,
 "nbformat_minor": 5
}
