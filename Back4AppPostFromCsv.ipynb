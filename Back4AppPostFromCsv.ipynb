{
 "cells": [
  {
   "cell_type": "code",
   "execution_count": 1,
   "id": "cc106952",
   "metadata": {},
   "outputs": [
    {
     "name": "stdout",
     "output_type": "stream",
     "text": [
      "   itemnum           itemname itemname2 itemuom  itemuom2  itemstandardweight  itemprice\n",
      "0   990001     Safflower Crab       紅花蟹    100g       100                 200         50\n",
      "1   990002           Portunus       梭子蟹    100g       100                 250         55\n",
      "2   990003              Squid        魷魚    100g       100                 300         25\n",
      "3   990004  Australia Lobster      澳洲龍蝦    100g       100                 350         50\n",
      "4   990005              Bream        鯿魚    100g       100                 150         20\n",
      "5   990006         Red Shrimp        紅蝦    100g       100                 300         15\n"
     ]
    }
   ],
   "source": [
    "import pandas as pd\n",
    "# import csv data into dataframe\n",
    "df = pd.read_csv('seafooditems.csv')\n",
    "print(df.to_string()) "
   ]
  },
  {
   "cell_type": "code",
   "execution_count": 2,
   "id": "a0bad103",
   "metadata": {},
   "outputs": [
    {
     "name": "stdout",
     "output_type": "stream",
     "text": [
      "990001 Safflower Crab\n",
      "990002 Portunus\n",
      "990003 Squid\n",
      "990004 Australia Lobster\n",
      "990005 Bream\n",
      "990006 Red Shrimp\n"
     ]
    }
   ],
   "source": [
    "for index, row in df.iterrows():\n",
    "    print(row['itemnum'], row['itemname'])"
   ]
  },
  {
   "cell_type": "code",
   "execution_count": 4,
   "id": "93d3264c",
   "metadata": {},
   "outputs": [],
   "source": [
    "appid = \"6DILeMWIdzEA4jzdj9am5UV5czdUD5rmEIQzbh3A\"\n",
    "apikey = \"AwqvAouTa7RNoktwCTdNc4Wc7DQDF9v41BpfN0v9\"\n",
    "masterkey = \"lxU1bFBupo35PVUUkfAjos44hFUqNhFyHTEgQCCZ\""
   ]
  },
  {
   "cell_type": "code",
   "execution_count": 5,
   "id": "8c44bfcc",
   "metadata": {},
   "outputs": [],
   "source": [
    "import requests\n",
    "\n",
    "# pass the dictionary into the function\n",
    "def postToProduct(_dict):\n",
    "    url = 'https://parseapi.back4app.com/classes/Product'\n",
    "    headers = {'X-Parse-Application-Id': appid, \n",
    "               'X-Parse-REST-API-Key': apikey,\n",
    "               'Content-Type': 'application/json'}\n",
    "    res = requests.post(url, json=_dict, headers=headers)\n",
    "    print(\"Status Code: \", res.status_code)\n",
    "    print(\"JSON Response: \", res.json())"
   ]
  },
  {
   "cell_type": "code",
   "execution_count": 8,
   "id": "7aca1246",
   "metadata": {},
   "outputs": [
    {
     "name": "stdout",
     "output_type": "stream",
     "text": [
      "Status Code:  201\n",
      "JSON Response:  {'objectId': 'UmIMkaAJP9', 'createdAt': '2022-12-14T17:07:05.236Z'}\n",
      "{\"itemnum\": \"990001\", \"itemname\": \"Safflower Crab\", \"itemname2\": \"\\u7d05\\u82b1\\u87f9\", \"itemuom\": \"100g\", \"itemuom2\": 100, \"itemstandardweight\": 200, \"itemprice\": 50}\n",
      "Status Code:  201\n",
      "JSON Response:  {'objectId': 'eQ8G1Sdpyi', 'createdAt': '2022-12-14T17:07:05.521Z'}\n",
      "Status Code:  201\n",
      "JSON Response:  {'objectId': 'HFErcy2WFs', 'createdAt': '2022-12-14T17:07:05.802Z'}\n",
      "Status Code:  201\n",
      "JSON Response:  {'objectId': 'IvBkP9MDgD', 'createdAt': '2022-12-14T17:07:06.054Z'}\n",
      "Status Code:  201\n",
      "JSON Response:  {'objectId': 'NIjO71iMS9', 'createdAt': '2022-12-14T17:07:07.166Z'}\n",
      "Status Code:  201\n",
      "JSON Response:  {'objectId': 'BJwEqck8lX', 'createdAt': '2022-12-14T17:07:07.456Z'}\n"
     ]
    }
   ],
   "source": [
    "import json\n",
    "\n",
    "for index, row in df.iterrows():\n",
    "    dictData ={ \n",
    "        \"itemnum\": str(row['itemnum']), \n",
    "        \"itemname\": row['itemname'], \n",
    "        \"itemname2\": row['itemname2'],\n",
    "        \"itemuom\": row['itemuom'],\n",
    "        \"itemuom2\": row['itemuom2'],\n",
    "        \"itemstandardweight\": row['itemstandardweight'],\n",
    "        \"itemprice\": row['itemprice']\n",
    "    }    \n",
    "    postToProduct(dictData)\n",
    "    if (index == 0): \n",
    "        # Serializing json  \n",
    "        jstr = json.dumps(dictData, indent=None)\n",
    "        print(jstr)"
   ]
  },
  {
   "cell_type": "code",
   "execution_count": 13,
   "id": "ee4ba961",
   "metadata": {},
   "outputs": [],
   "source": [
    "import json\n",
    "import requests\n",
    "import pandas as pd\n",
    "def getFromProduct(howmanyrow):\n",
    "    url     = 'https://parseapi.back4app.com/classes/Product'\n",
    "    # order by createdAt desc i.e. \"-\" means desc\n",
    "    params  = {'order': '-createdAt'}\n",
    "    headers = {'X-Parse-Application-Id': appid, \n",
    "               'X-Parse-REST-API-Key': apikey,\n",
    "               'Content-Type': 'application/json'}\n",
    "    res = requests.get(url, params=params, headers=headers)\n",
    "    jstr = res.content.decode('utf-8')\n",
    "    dict_1 = json.loads(jstr)\n",
    "    list_1 = dict_1['results']\n",
    "    df2 = pd.DataFrame(list_1)\n",
    "    print(df2.head(howmanyrow))"
   ]
  },
  {
   "cell_type": "code",
   "execution_count": 14,
   "id": "379ebf41",
   "metadata": {},
   "outputs": [
    {
     "name": "stdout",
     "output_type": "stream",
     "text": [
      "     objectId itemnum           itemname itemname2 itemuom  itemuom2  \\\n",
      "0  BJwEqck8lX  990006         Red Shrimp        紅蝦    100g       100   \n",
      "1  NIjO71iMS9  990005              Bream        鯿魚    100g       100   \n",
      "2  IvBkP9MDgD  990004  Australia Lobster      澳洲龍蝦    100g       100   \n",
      "3  HFErcy2WFs  990003              Squid        魷魚    100g       100   \n",
      "4  eQ8G1Sdpyi  990002           Portunus       梭子蟹    100g       100   \n",
      "5  UmIMkaAJP9  990001     Safflower Crab       紅花蟹    100g       100   \n",
      "\n",
      "   itemstandardweight  itemprice                 createdAt  \\\n",
      "0                 300         15  2022-12-14T17:07:07.456Z   \n",
      "1                 150         20  2022-12-14T17:07:07.166Z   \n",
      "2                 350         50  2022-12-14T17:07:06.054Z   \n",
      "3                 300         25  2022-12-14T17:07:05.802Z   \n",
      "4                 250         55  2022-12-14T17:07:05.521Z   \n",
      "5                 200         50  2022-12-14T17:07:05.236Z   \n",
      "\n",
      "                  updatedAt  \n",
      "0  2022-12-14T17:07:07.456Z  \n",
      "1  2022-12-14T17:07:07.166Z  \n",
      "2  2022-12-14T17:07:06.054Z  \n",
      "3  2022-12-14T17:07:05.802Z  \n",
      "4  2022-12-14T17:07:05.521Z  \n",
      "5  2022-12-14T17:07:05.236Z  \n"
     ]
    }
   ],
   "source": [
    "getFromProduct(6)"
   ]
  },
  {
   "cell_type": "code",
   "execution_count": null,
   "id": "d7df3bf4",
   "metadata": {},
   "outputs": [],
   "source": []
  }
 ],
 "metadata": {
  "kernelspec": {
   "display_name": "Python 3 (ipykernel)",
   "language": "python",
   "name": "python3"
  },
  "language_info": {
   "codemirror_mode": {
    "name": "ipython",
    "version": 3
   },
   "file_extension": ".py",
   "mimetype": "text/x-python",
   "name": "python",
   "nbconvert_exporter": "python",
   "pygments_lexer": "ipython3",
   "version": "3.9.12"
  }
 },
 "nbformat": 4,
 "nbformat_minor": 5
}
