{
 "cells": [
  {
   "cell_type": "code",
   "execution_count": 1,
   "id": "dc3c8ad9",
   "metadata": {},
   "outputs": [
    {
     "name": "stdout",
     "output_type": "stream",
     "text": [
      "  ItemCode         Name1                                    Name2  Price\n",
      "0   110012       美國安格斯牛片                    USA Angus Beef Slices   31.0\n",
      "1   110016     美國安格斯一口牛粒                     USA Angus Beef Dices   36.0\n",
      "2   110108  美國安格斯濕式熟成肉眼扒     USA Angus Beef Wet-aged Ribeye Steak   59.0\n",
      "3   110109  美國安格斯濕式熟成西冷扒  USA Angus Beef Wet-aged Striploin Steak   49.0\n",
      "4   110110   美國安格斯濕式熟成牛扒                     USA Angus Beef Steak   46.0\n"
     ]
    }
   ],
   "source": [
    "import pandas as pd\n",
    "import sqlite3\n",
    "\n",
    "# Read sqlite query results into a pandas DataFrame\n",
    "con = sqlite3.connect(\"C:/Temp/Default.db\")\n",
    "df = pd.read_sql_query(\"SELECT ItemCode, Name1, Name2, Price from PLUTbl WHERE Name1!='' and Name2!='' and Price>1\", con)\n",
    "\n",
    "# Verify that result of SQL query is stored in the dataframe\n",
    "print(df.head())\n",
    "\n",
    "con.close()"
   ]
  },
  {
   "cell_type": "code",
   "execution_count": 2,
   "id": "3e3ae4e9",
   "metadata": {},
   "outputs": [],
   "source": [
    "appid = \"6DILeMWIdzEA4jzdj9am5UV5czdUD5rmEIQzbh3A\"\n",
    "apikey = \"AwqvAouTa7RNoktwCTdNc4Wc7DQDF9v41BpfN0v9\"\n",
    "masterkey = \"lxU1bFBupo35PVUUkfAjos44hFUqNhFyHTEgQCCZ\""
   ]
  },
  {
   "cell_type": "code",
   "execution_count": 11,
   "id": "0b563073",
   "metadata": {},
   "outputs": [],
   "source": [
    "import requests\n",
    "\n",
    "# pass the dictionary into the function\n",
    "def postToProduct(_dict):\n",
    "    url = 'https://parseapi.back4app.com/classes/Product'\n",
    "    headers = {'X-Parse-Application-Id': appid, \n",
    "               'X-Parse-REST-API-Key': apikey,\n",
    "               'Content-Type': 'application/json'}\n",
    "    res = requests.post(url, json=_dict, headers=headers)\n",
    "    print(\"Status Code: \", res.status_code)\n",
    "    print(\"JSON Response: \", res.json())"
   ]
  },
  {
   "cell_type": "code",
   "execution_count": null,
   "id": "7a9dec5b",
   "metadata": {},
   "outputs": [],
   "source": [
    "import json\n",
    "import random\n",
    "\n",
    "lstStdWeight = [100, 150, 200, 250, 300, 350]\n",
    "\n",
    "for index, row in df.iterrows():\n",
    "    _itemnum = row['ItemCode']\n",
    "    dictData ={ \n",
    "        \"itemnum\": _itemnum, \n",
    "        \"itemname\": row['Name2'], \n",
    "        \"itemname2\": row['Name1'],\n",
    "        \"itemuom\": \"100g\",\n",
    "        \"itemuom2\": 100,\n",
    "        \"itemstandardweight\": random.choice(lstStdWeight),\n",
    "        \"itemprice\": row['Price']\n",
    "    }    \n",
    "    postToProduct(dictData)\n",
    "    if (index == 0): \n",
    "        # Serializing json  \n",
    "        jstr = json.dumps(dictData, indent=None)\n",
    "        print(jstr)"
   ]
  },
  {
   "cell_type": "code",
   "execution_count": 24,
   "id": "fcb115d0",
   "metadata": {},
   "outputs": [],
   "source": [
    "import json\n",
    "import requests\n",
    "import pandas as pd\n",
    "def getFromProduct():\n",
    "    url     = 'https://parseapi.back4app.com/classes/Product'\n",
    "    headers = {'X-Parse-Application-Id': appid, \n",
    "               'X-Parse-REST-API-Key': apikey,\n",
    "               'Content-Type': 'application/json'}\n",
    "    res = requests.get(url, headers=headers)\n",
    "    jstr = res.content.decode('utf-8')\n",
    "    dict_1 = json.loads(jstr)\n",
    "    list_1 = dict_1['results']\n",
    "    df2 = pd.DataFrame(list_1)\n",
    "    print(df2.head())\n",
    "    #df2 = pd.read_json(data_2, orient ='index')\n",
    "    #print(url)\n",
    "    #print(data_2)    \n",
    "    # Use json_normalize() to convert JSON to DataFrame\n",
    "    #dict = json.loads(data_2)\n",
    "    #df2 = json_normalize(dict['results']) \n",
    "    #print(df2.head())"
   ]
  },
  {
   "cell_type": "code",
   "execution_count": 25,
   "id": "00a7e7c0",
   "metadata": {},
   "outputs": [
    {
     "name": "stdout",
     "output_type": "stream",
     "text": [
      "     objectId itemnum                                 itemname     itemname2  \\\n",
      "0  l7TNgT9BZd  110012                    USA Angus Beef Slices       美國安格斯牛片   \n",
      "1  DCDj1oEE0k  110016                     USA Angus Beef Dices     美國安格斯一口牛粒   \n",
      "2  VeGEPuQ1rU  110108     USA Angus Beef Wet-aged Ribeye Steak  美國安格斯濕式熟成肉眼扒   \n",
      "3  qirtB3wuWW  110109  USA Angus Beef Wet-aged Striploin Steak  美國安格斯濕式熟成西冷扒   \n",
      "4  SAht1Q46Dg  110110                     USA Angus Beef Steak   美國安格斯濕式熟成牛扒   \n",
      "\n",
      "  itemuom  itemuom2  itemstandardweight  itemprice                 createdAt  \\\n",
      "0    100g       100                 200         31  2022-12-14T13:15:19.301Z   \n",
      "1    100g       100                 150         36  2022-12-14T13:15:21.311Z   \n",
      "2    100g       100                 250         59  2022-12-14T13:15:21.655Z   \n",
      "3    100g       100                 150         49  2022-12-14T13:15:22.056Z   \n",
      "4    100g       100                 100         46  2022-12-14T13:15:22.474Z   \n",
      "\n",
      "                  updatedAt  \n",
      "0  2022-12-14T13:15:19.301Z  \n",
      "1  2022-12-14T13:15:21.311Z  \n",
      "2  2022-12-14T13:15:21.655Z  \n",
      "3  2022-12-14T13:15:22.056Z  \n",
      "4  2022-12-14T13:15:22.474Z  \n"
     ]
    }
   ],
   "source": [
    "# verify the data just posted in cloud database\n",
    "getFromProduct()"
   ]
  },
  {
   "cell_type": "code",
   "execution_count": null,
   "id": "dd2dbfbc",
   "metadata": {},
   "outputs": [],
   "source": []
  }
 ],
 "metadata": {
  "kernelspec": {
   "display_name": "Python 3 (ipykernel)",
   "language": "python",
   "name": "python3"
  },
  "language_info": {
   "codemirror_mode": {
    "name": "ipython",
    "version": 3
   },
   "file_extension": ".py",
   "mimetype": "text/x-python",
   "name": "python",
   "nbconvert_exporter": "python",
   "pygments_lexer": "ipython3",
   "version": "3.9.12"
  }
 },
 "nbformat": 4,
 "nbformat_minor": 5
}
